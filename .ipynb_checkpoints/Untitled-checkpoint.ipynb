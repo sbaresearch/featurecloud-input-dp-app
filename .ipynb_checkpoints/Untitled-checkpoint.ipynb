{
 "cells": [
  {
   "cell_type": "code",
   "execution_count": 54,
   "id": "e45c8b23-151c-4c4b-85dd-85e279285837",
   "metadata": {},
   "outputs": [],
   "source": [
    "import numpy as np\n",
    "from sklearn.preprocessing import StandardScaler\n",
    "\n",
    "def input_DP(data, epsilon, delta): # delta_input << 1/n, where n is the number of instances in data\n",
    "\n",
    "    X = np.array(data)\n",
    "    n = X.shape[0]\n",
    "    X = StandardScaler().fit_transform(X)\n",
    "    \n",
    "    loss_function = 3 * np.log(n)\n",
    "    sigma = (loss_function ** 2) * (8 * np.log(2 / delta) + 4 * epsilon)/(n * epsilon ** 2)\n",
    "    noise = np.random.normal(loc=0.0, scale=sigma, size=X.shape)\n",
    "    noised_data = X + noise\n",
    "   \n",
    "    return noised_data, noise\n",
    "\n",
    "def input_DP_new_paradigm(data, epsilon, delta, sensitivity, iterations): # delta_input << 1/n, where n is the number of instances in data\n",
    "    # sensitivity - is the sensitivity of ML model and iterations - is the number of iterations when training the ML model\n",
    "\n",
    "    X = np.array(data)\n",
    "    n = X.shape[0]\n",
    "    X = StandardScaler().fit_transform(X)\n",
    "    \n",
    "    loss_function = 3 * np.log(n)\n",
    "    sigma = (loss_function**2) * iterations * np.log(1/delta)/(n * (n-1) * (epsilon**2)*np.sqrt(sensitivity))\n",
    "    noise = np.random.normal(loc=0.0, scale=sigma, size=X.shape)\n",
    "    noised_data = X + noise\n",
    "   \n",
    "    return noised_data, noise\n"
   ]
  },
  {
   "cell_type": "code",
   "execution_count": 13,
   "id": "82e673b7-dd44-43c0-a00e-cbba2e3f8d06",
   "metadata": {},
   "outputs": [],
   "source": [
    "import pandas as pd\n",
    "import numpy as np\n",
    "from sklearn.preprocessing import StandardScaler\n",
    "from sklearn.model_selection import train_test_split"
   ]
  },
  {
   "cell_type": "code",
   "execution_count": 4,
   "id": "9684ea59-d974-45d2-a068-c7768530907e",
   "metadata": {},
   "outputs": [],
   "source": [
    "dp_util_dataset = pd.read_csv(r'data/dp_util_dataset.csv')\n"
   ]
  },
  {
   "cell_type": "code",
   "execution_count": 5,
   "id": "f317773e-a4f0-45c7-b621-9cdf00c93504",
   "metadata": {},
   "outputs": [],
   "source": [
    "y = dp_util_dataset['grade']\n",
    "X = dp_util_dataset.drop('grade', axis=1)\n",
    "\n",
    "scaler = StandardScaler()\n",
    "X = scaler.fit_transform(X)"
   ]
  },
  {
   "cell_type": "code",
   "execution_count": 42,
   "id": "ef9ac2db-a2e5-4ccb-8e80-28e95c220cf8",
   "metadata": {},
   "outputs": [],
   "source": [
    "dp_util_dataset[:100].to_csv('data100.csv')"
   ]
  },
  {
   "cell_type": "code",
   "execution_count": 8,
   "id": "4a03b581-4410-4207-9a2f-b67cbda1eee2",
   "metadata": {},
   "outputs": [],
   "source": [
    "X_train, X_test, y_train, y_test = train_test_split(X[0:100000], y[0:100000], train_size=0.5, random_state=0)"
   ]
  },
  {
   "cell_type": "code",
   "execution_count": 9,
   "id": "cda5e88d-8638-4cd9-aeec-54bbbe081f7b",
   "metadata": {},
   "outputs": [],
   "source": [
    "y_train = y_train.to_numpy()\n",
    "y_test = y_test.to_numpy()"
   ]
  },
  {
   "cell_type": "code",
   "execution_count": 50,
   "id": "dde5fdcd-926b-44f9-bade-1c63473ed8d5",
   "metadata": {},
   "outputs": [
    {
     "data": {
      "text/plain": [
       "50000"
      ]
     },
     "execution_count": 50,
     "metadata": {},
     "output_type": "execute_result"
    }
   ],
   "source": [
    "y_train.shape[0]"
   ]
  },
  {
   "cell_type": "code",
   "execution_count": 11,
   "id": "439c6a7d-2e56-4a75-94a3-49d1ee62e7f3",
   "metadata": {},
   "outputs": [],
   "source": [
    "n=100\n",
    "xtrain=X_train[0:n]\n",
    "ytrain=y_train[0:n]\n",
    "xtest=X_test[0:n]\n",
    "ytest=y_test[0:n]"
   ]
  },
  {
   "cell_type": "code",
   "execution_count": 52,
   "id": "d1529df7-3ea8-48bd-8a38-18cfbdbaecab",
   "metadata": {},
   "outputs": [],
   "source": [
    "epsilon_input = 100\n",
    "delta_input = 1/(n*10)\n",
    "\n",
    "\n",
    "noise_x_train, noise = input_DP_util(X, epsilon_input, n, delta_input)\n"
   ]
  },
  {
   "cell_type": "code",
   "execution_count": 57,
   "id": "d1653dbb-838a-49e2-88ad-d4f7292bde69",
   "metadata": {},
   "outputs": [
    {
     "data": {
      "text/plain": [
       "(array([[-3.41478036, -2.3680554 ,  4.06335648, ..., -0.58394577,\n",
       "          1.20260374,  3.28353181],\n",
       "        [ 1.39217724, -1.46406725, -3.88660379, ..., -0.83706135,\n",
       "          4.43755671,  6.2636107 ],\n",
       "        [ 1.93726911,  1.83202916,  5.79176161, ..., -1.40313601,\n",
       "          1.69653976,  2.99180764],\n",
       "        ...,\n",
       "        [ 5.08042383,  4.91533919,  2.31143621, ...,  9.69275977,\n",
       "         -5.69281161,  5.9624449 ],\n",
       "        [ 0.69527244, -3.56266441, -2.42672648, ..., -4.14956523,\n",
       "          1.89281892, -3.51366626],\n",
       "        [ 5.37024762,  0.36276907,  0.24177463, ...,  1.27081379,\n",
       "          3.21715188,  2.61181412]]),\n",
       " array([[-4.75161681, -3.70489186,  2.72652002, ..., -0.58394577,\n",
       "          1.20260374,  3.28353181],\n",
       "        [ 2.8019753 , -0.05426918, -2.47680572, ..., -0.83706135,\n",
       "          4.43755671,  6.2636107 ],\n",
       "        [ 1.3406229 ,  1.23538295,  5.1951154 , ..., -1.40313601,\n",
       "          1.69653976,  2.99180764],\n",
       "        ...,\n",
       "        [ 6.06989957,  5.90481494,  3.30091196, ...,  9.69275977,\n",
       "         -5.69281161,  5.9624449 ],\n",
       "        [ 1.0502994 , -3.20763744, -2.07169951, ..., -4.14956523,\n",
       "          1.89281892, -3.51366626],\n",
       "        [ 3.7188303 , -1.28864825, -1.40964268, ...,  1.27081379,\n",
       "          3.21715188,  2.61181412]]))"
      ]
     },
     "execution_count": 57,
     "metadata": {},
     "output_type": "execute_result"
    }
   ],
   "source": [
    "input_DP(dp_util_dataset[:10], epsilon=10, delta=0.01)"
   ]
  },
  {
   "cell_type": "code",
   "execution_count": null,
   "id": "664705a7-72bd-47ef-a8fa-3f16345ff5dd",
   "metadata": {},
   "outputs": [],
   "source": []
  }
 ],
 "metadata": {
  "kernelspec": {
   "display_name": "Python 3 (ipykernel)",
   "language": "python",
   "name": "python3"
  },
  "language_info": {
   "codemirror_mode": {
    "name": "ipython",
    "version": 3
   },
   "file_extension": ".py",
   "mimetype": "text/x-python",
   "name": "python",
   "nbconvert_exporter": "python",
   "pygments_lexer": "ipython3",
   "version": "3.12.0"
  }
 },
 "nbformat": 4,
 "nbformat_minor": 5
}
